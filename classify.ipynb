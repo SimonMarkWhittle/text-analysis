{
 "cells": [
  {
   "cell_type": "markdown",
   "metadata": {},
   "source": [
    "# Document Classification Testo\n",
    "Attempt to classify biomedical PubMed articles from [kaggle](https://www.kaggle.com/datasets/owaiskhan9654/pubmed-multilabel-text-classification?resource=download). [covid 19 data](https://www.kaggle.com/datasets/datatattle/covid-19-nlp-text-classification)\n",
    "\n",
    "The approach will be as such:\n",
    "* create document embeddings using `gensim.doc2vec`\n",
    "    * `doc2vec` needs a collection of collections of tokens\n",
    "    * tokenizing our sample documents will require\n",
    "        * stop words list\n",
    "        * lowercased\n",
    "        * split on whitespace and contractional punctuation\n",
    "        * \n",
    "    * getting the stop words list requires creating our own\n",
    "        * none of the default ones are great\n",
    "        * use tfidf scores to find irrelevant tokens for the domain\n",
    "        * scikit learn provides a convenient pipeline for this - just make sure to disable their stopwords\n",
    "* train classifier with document embeddings and labels\n"
   ]
  },
  {
   "cell_type": "code",
   "execution_count": null,
   "metadata": {},
   "outputs": [],
   "source": [
    "from pathlib import Path\n",
    "\n",
    "import pandas as pd"
   ]
  },
  {
   "cell_type": "code",
   "execution_count": null,
   "metadata": {},
   "outputs": [],
   "source": [
    "train_path = Path(\"data\")/\"Corona_NLP_train.csv\"\n",
    "\n",
    "train_df = pd.read_csv(train_path, encoding=\"latin1\")\n",
    "train_df.head(3)"
   ]
  },
  {
   "cell_type": "code",
   "execution_count": null,
   "metadata": {},
   "outputs": [],
   "source": [
    "documents = train_df[\"OriginalTweet\"]"
   ]
  },
  {
   "cell_type": "code",
   "execution_count": null,
   "metadata": {},
   "outputs": [],
   "source": [
    "import gensim\n",
    "from nltk.tokenize import TreebankWordTokenizer\n",
    "from sklearn.feature_extraction.text import CountVectorizer\n",
    "\n",
    "def get_stops(documents, max_df=0.75, min_df=1):\n",
    "    tokenizer = TreebankWordTokenizer()\n",
    "\n",
    "    # first, make the documents consist of regularized text\n",
    "    # lowercase, split contractions, etc.\n",
    "    # this will be deterministic regardless of document set\n",
    "    documents = [\" \".join(tokenizer.tokenize(doc)) for doc in documents]\n",
    "\n",
    "    # use count vectorizer to get stopwords set\n",
    "    # i.e. words appearing in > 70% of documents or less than twice\n",
    "    vectorizer = CountVectorizer(\n",
    "        strip_accents=\"unicode\",\n",
    "        lowercase=True,\n",
    "        stop_words=None,\n",
    "        max_df=max_df,\n",
    "        min_df=min_df,\n",
    "    )\n",
    "    vectorizer.fit(documents)\n",
    "    return vectorizer.stop_words_\n",
    "\n",
    "\n",
    "def tokenize_docs(documents, tokens_only=False, stops=set()):\n",
    "    tokenizer = TreebankWordTokenizer()\n",
    "\n",
    "    for i, doc in enumerate(documents):\n",
    "        tokens = [token for token in tokenizer.tokenize(doc) if token not in stops]\n",
    "        if tokens_only:\n",
    "            yield tokens\n",
    "        else:\n",
    "            yield gensim.models.doc2vec.TaggedDocument(tokens, [i])"
   ]
  },
  {
   "cell_type": "code",
   "execution_count": null,
   "metadata": {},
   "outputs": [],
   "source": [
    "stops = get_stops(documents)"
   ]
  },
  {
   "cell_type": "code",
   "execution_count": null,
   "metadata": {},
   "outputs": [],
   "source": [
    "documents = list(tokenize_docs(documents, stops=stops))"
   ]
  },
  {
   "cell_type": "code",
   "execution_count": null,
   "metadata": {},
   "outputs": [],
   "source": [
    "model = gensim.models.doc2vec.Doc2Vec(vector_size=50, min_count=2, epochs=40)\n",
    "model.build_vocab(documents)\n",
    "model.train(documents, total_examples=model.corpus_count, epochs=model.epochs)"
   ]
  },
  {
   "cell_type": "code",
   "execution_count": null,
   "metadata": {},
   "outputs": [],
   "source": [
    "vecdocs = [model.infer_vector(doc.words) for doc in documents]"
   ]
  },
  {
   "cell_type": "code",
   "execution_count": null,
   "metadata": {},
   "outputs": [],
   "source": [
    "from sklearn.linear_model import SGDClassifier\n",
    "from sklearn.model_selection import train_test_split\n",
    "\n",
    "X  = vecdocs\n",
    "y = train_df[\"Sentiment\"]\n",
    "\n",
    "X_train, X_test, y_train, y_test = train_test_split(X, y, test_size=0.33, random_state=8675309)\n",
    "\n",
    "mod = SGDClassifier()\n",
    "mod.fit(X_train, y_train)\n",
    "mod.score(X_test, y_test)"
   ]
  },
  {
   "cell_type": "markdown",
   "metadata": {},
   "source": [
    "The results of doing it on word2vec'd stuff is crap. What about just pure sklearn?"
   ]
  },
  {
   "cell_type": "code",
   "execution_count": null,
   "metadata": {},
   "outputs": [],
   "source": [
    "from sklearn.pipeline import make_pipeline\n",
    "from sklearn.feature_extraction.text import TfidfTransformer\n",
    "\n",
    "pipe = make_pipeline(CountVectorizer(),\n",
    "                     TfidfTransformer(),\n",
    "                     SGDClassifier(),\n",
    "                    )\n",
    "\n",
    "X, y = train_df[\"OriginalTweet\"], train_df[\"Sentiment\"]\n",
    "X_train, X_test, y_train, y_test = train_test_split(X, y, test_size=0.33, random_state=8675309)\n",
    "\n",
    "pipe.fit(X_train, y_train)\n",
    "pipe.score(X_test, y_test)"
   ]
  },
  {
   "cell_type": "markdown",
   "metadata": {},
   "source": [
    "The results are better. Don't really know why."
   ]
  },
  {
   "cell_type": "code",
   "execution_count": null,
   "metadata": {},
   "outputs": [],
   "source": []
  }
 ],
 "metadata": {
  "kernelspec": {
   "display_name": "text-analysis",
   "language": "python",
   "name": "python3"
  },
  "language_info": {
   "codemirror_mode": {
    "name": "ipython",
    "version": 3
   },
   "file_extension": ".py",
   "mimetype": "text/x-python",
   "name": "python",
   "nbconvert_exporter": "python",
   "pygments_lexer": "ipython3",
   "version": "3.12.3"
  }
 },
 "nbformat": 4,
 "nbformat_minor": 2
}
